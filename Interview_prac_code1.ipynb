{
 "cells": [
  {
   "cell_type": "code",
   "execution_count": 27,
   "metadata": {},
   "outputs": [
    {
     "name": "stdout",
     "output_type": "stream",
     "text": [
      "Hello world\n"
     ]
    }
   ],
   "source": [
    "## 2023-07-27\n",
    "## Python interview prep basic code exercises \n",
    "\n",
    "print(\"Hello world\")\n",
    "\n",
    "## Test feed back\n",
    "## 1 refine your dynamic string slicing\n",
    "## 2 Learn to work with 2 dimensional matrix of numbers stored in a list of lists\n",
    "## 3 Work with comparing list membership and position based on question requirements"
   ]
  },
  {
   "cell_type": "code",
   "execution_count": 26,
   "metadata": {},
   "outputs": [
    {
     "name": "stdout",
     "output_type": "stream",
     "text": [
      "[1, 2, 3, 'hello', True]\n",
      "1\n",
      "(4, 5, 6, 'hello', True)\n",
      "4\n",
      "{True, 7, 8, 9, 'hello'}\n",
      "{True, 'GoodBye', 10, 11, 12}\n",
      "True\n",
      "GoodBye\n",
      "10\n",
      "11\n",
      "12\n",
      "{'name': 'John', 'age': 30, 'city': 'New York'}\n",
      "Name:John\n",
      "name\n"
     ]
    }
   ],
   "source": [
    "## Python basic data structures\n",
    "\n",
    "## 1 Lists: Lists are ordered, MUTABLE collections in Python \n",
    "## that can store elements of different data types, \n",
    "## and are defined using SQUARE BRACKETS [].\n",
    "\n",
    "my_list = [1, 2, 3, 'hello', True]\n",
    "print(my_list)\n",
    "\n",
    "## reference the first element in a list\n",
    "print(my_list[0])\n",
    "\n",
    "\n",
    "## 2 Tuples: Tuples are ordered, IMMUTABLE collections in Python \n",
    "## that can store elements of different data types, \n",
    "## and are defined using PARENTHESES ().\n",
    "\n",
    "# Using parentheses\n",
    "my_tuple = (4, 5, 6, 'hello', True)\n",
    "print(my_tuple)\n",
    "\n",
    "## refence the first element in a tuple\n",
    "print(my_tuple[0])\n",
    "\n",
    "\n",
    "## 3 Sets: Sets are unordered, MUTABLE collections in Python \n",
    "## that store UNIQUE elements \n",
    "## and are defined using CURLY BRACES {} or the set() constructor.\n",
    "\n",
    "# Using curly braces\n",
    "my_set1 = {7, 8, 9, 'hello', True}\n",
    "print(my_set1)\n",
    "\n",
    "# Using the set() constructor\n",
    "my_set2 = set([10, 11, 12, 'GoodBye', True])\n",
    "print(my_set2)\n",
    "\n",
    "## NOTE: sets are unorderd so you can NOT reference elements by position \n",
    "\n",
    "## You can iterate through the elements of a set\n",
    "for element in my_set2:\n",
    "    print(element)\n",
    "\n",
    "    \n",
    "## 4 Dictionaries: Dictionaries are unordered, MUTABLE collections in Python that \n",
    "## store KEY-VALUE PAIRS and are defined using CURLY BRACES {} and COLONS : \n",
    "## to separate keys and values.\n",
    "\n",
    "# Using curly braces and colons\n",
    "my_dict = {'name': 'John', 'age': 30, 'city': 'New York'}\n",
    "\n",
    "## output the whole dictionary\n",
    "print(my_dict)\n",
    "\n",
    "## output a value by key reference\n",
    "print(\"Name:\" + my_dict['name'])\n",
    "\n",
    "## Search a dictionary for a value and return the key\n",
    "searchVal = 'John'\n",
    "for key, val in my_dict.items():\n",
    "     if val == searchVal:\n",
    "        print(key)\n"
   ]
  },
  {
   "cell_type": "code",
   "execution_count": 24,
   "metadata": {},
   "outputs": [
    {
     "name": "stdout",
     "output_type": "stream",
     "text": [
      "[1, 2, 3, 4, 5]\n"
     ]
    }
   ],
   "source": [
    "## Append a value to a list\n",
    "my_list = [1, 2, 3, 4]\n",
    "\n",
    "# Append a value to the list\n",
    "my_list.append(5)\n",
    "\n",
    "print(my_list)"
   ]
  },
  {
   "cell_type": "code",
   "execution_count": 25,
   "metadata": {},
   "outputs": [
    {
     "name": "stdout",
     "output_type": "stream",
     "text": [
      "[1, 2, 4, 5]\n"
     ]
    }
   ],
   "source": [
    "## Remove a value from a list\n",
    "my_list = [1, 2, 3, 4, 5]\n",
    "\n",
    "# Remove a specific value from the list\n",
    "my_list.remove(3)\n",
    "\n",
    "print(my_list)"
   ]
  },
  {
   "cell_type": "code",
   "execution_count": 28,
   "metadata": {},
   "outputs": [
    {
     "name": "stdout",
     "output_type": "stream",
     "text": [
      "{'name': 'John', 'age': 30, 'city': 'New York'}\n"
     ]
    }
   ],
   "source": [
    "# Append a new key-value pair to the dictionary\n",
    "\n",
    "my_dict = {'name': 'John', 'age': 30}\n",
    "\n",
    "my_dict['city'] = 'New York'\n",
    "\n",
    "print(my_dict)"
   ]
  },
  {
   "cell_type": "code",
   "execution_count": 29,
   "metadata": {},
   "outputs": [
    {
     "name": "stdout",
     "output_type": "stream",
     "text": [
      "{'name': 'John', 'city': 'New York'}\n"
     ]
    }
   ],
   "source": [
    "# Remove a key-value pair using del\n",
    "my_dict = {'name': 'John', 'age': 30, 'city': 'New York'}\n",
    "\n",
    "del my_dict['age']\n",
    "\n",
    "print(my_dict)  # Output: {'name': 'John', 'city': 'New York'}"
   ]
  },
  {
   "cell_type": "code",
   "execution_count": 13,
   "metadata": {},
   "outputs": [
    {
     "name": "stdout",
     "output_type": "stream",
     "text": [
      "Addition: 15\n",
      "Subtraction: 8\n",
      "Multiplication: 12\n",
      "Division: 4.0\n",
      "Floor Division: 7\n",
      "Modulo: 1\n",
      "Exponentiation: 16\n",
      "Absolute Value: 10\n",
      "Minimum: 3\n",
      "Maximum: 9\n",
      "Round: 3.14\n"
     ]
    }
   ],
   "source": [
    "## Python basic math functions\n",
    "\n",
    "# Addition\n",
    "result_add = 5 + 10\n",
    "\n",
    "# Subtraction\n",
    "result_sub = 15 - 7\n",
    "\n",
    "# Multiplication\n",
    "result_mul = 3 * 4\n",
    "\n",
    "# Division\n",
    "result_div = 20 / 5\n",
    "\n",
    "# Floor Division\n",
    "# the fractional part of the division is discarded, \n",
    "# and only the whole number part is retained.\n",
    "result_floor_div = 22 // 3\n",
    "\n",
    "# Modulo (Remainder)\n",
    "result_modulo = 10 % 3\n",
    "\n",
    "# Exponentiation\n",
    "result_exp = 2 ** 4\n",
    "\n",
    "# Absolute Value\n",
    "result_abs = abs(-10)\n",
    "\n",
    "# Minimum\n",
    "result_min = min(5, 3, 8)\n",
    "\n",
    "# Maximum\n",
    "result_max = max(6, 9, 2)\n",
    "\n",
    "# Round\n",
    "result_round = round(3.14159, 2)\n",
    "\n",
    "print(\"Addition:\", result_add)\n",
    "print(\"Subtraction:\", result_sub)\n",
    "print(\"Multiplication:\", result_mul)\n",
    "print(\"Division:\", result_div)\n",
    "print(\"Floor Division:\", result_floor_div)\n",
    "print(\"Modulo:\", result_modulo)\n",
    "print(\"Exponentiation:\", result_exp)\n",
    "print(\"Absolute Value:\", result_abs)\n",
    "print(\"Minimum:\", result_min)\n",
    "print(\"Maximum:\", result_max)\n",
    "print(\"Round:\", result_round)\n"
   ]
  },
  {
   "cell_type": "code",
   "execution_count": 1,
   "metadata": {},
   "outputs": [
    {
     "name": "stdout",
     "output_type": "stream",
     "text": [
      "Yeah ! Your answer is : 1\n",
      "This is always executed\n",
      "Sorry ! You are dividing by zero \n",
      "This is always executed\n"
     ]
    }
   ],
   "source": [
    "## Python try() - try: except: else: finally: \n",
    "## Use this for potential exception handling\n",
    "## \n",
    "## \n",
    "## try:\n",
    "##      # Some Code.... \n",
    "## \n",
    "## except:\n",
    "##       # optional block\n",
    "##       # Handling of exception (if required)\n",
    "##\n",
    "## else:\n",
    "##       # execute if no exception\n",
    "##\n",
    "## finally:\n",
    "##      # Some code .....(always executed)\n",
    "\n",
    "def divide(x, y):\n",
    "    try:\n",
    "        # Floor Division : Gives only Fractional\n",
    "        # Part as Answer\n",
    "        result = x // y\n",
    "    except ZeroDivisionError:\n",
    "        print(\"Sorry ! You are dividing by zero \")\n",
    "    else:\n",
    "        print(\"Yeah ! Your answer is :\", result)\n",
    "    finally: \n",
    "        # this block is always executed  \n",
    "        # regardless of exception generation. \n",
    "        print('This is always executed')  \n",
    " \n",
    "# Look at parameters and note the working of Program\n",
    "divide(3, 2)\n",
    "divide(3, 0)\n"
   ]
  },
  {
   "cell_type": "code",
   "execution_count": 30,
   "metadata": {},
   "outputs": [
    {
     "name": "stdout",
     "output_type": "stream",
     "text": [
      "1\n",
      "8\n",
      "2\n",
      "7\n",
      "3\n",
      "False\n"
     ]
    }
   ],
   "source": [
    "## (codesignal) create an array from another array\n",
    "## and check for ascending order in the new array\n",
    "\n",
    "from array import array\n",
    "\n",
    "def solution(a):\n",
    "    lena = len(a) -1\n",
    "    \n",
    "    ## Create a new array from the input array\n",
    "    ## and rearragne the order of the elements\n",
    "    b = array('i', [a[0], a[lena], a[1], a[lena - 1], a[2], a[lena - 3]])\n",
    "    \n",
    "    ## Output the elements of array b in order\n",
    "    for i in range(len(b) - 1):\n",
    "        print(b[i])\n",
    "    \n",
    "    ## check for ascending order \n",
    "    for i in range(len(b) - 1):\n",
    "        if b[i] > b[i + 1]:\n",
    "            return False\n",
    "    return True\n",
    "\n",
    "a = array('i', [1, 2, 3, 4, 5, 6, 7, 8])\n",
    "result = solution(a)\n",
    "\n",
    "print(result)"
   ]
  },
  {
   "cell_type": "code",
   "execution_count": 2,
   "metadata": {},
   "outputs": [
    {
     "name": "stdout",
     "output_type": "stream",
     "text": [
      "ribbons = 3\n"
     ]
    }
   ],
   "source": [
    "## (codesignal) give a list of integers \"a\" \n",
    "## and an integer \"k\"\n",
    "## How many times will k divide into each element of a\n",
    "## no remainder required\n",
    "\n",
    "def solution(a, k):\n",
    "    \n",
    "    ttlcnt = 0\n",
    "    \n",
    "    ## for each element of the list of integers\n",
    "    for i in a:\n",
    "        \n",
    "        cnt = 0\n",
    "        \n",
    "        ## if k is great than or equal to i\n",
    "        ## use floor division to get the quotient\n",
    "        ## and sum the cumulative results\n",
    "        \n",
    "        if i >= k:\n",
    "            cnt = i // k\n",
    "            ttlcnt += cnt \n",
    "            \n",
    "    return ttlcnt\n",
    "\n",
    "a = [5, 2, 7, 4, 9]\n",
    "k = 5\n",
    "\n",
    "answer = solution(a, k)\n",
    "\n",
    "print(\"ribbons = \" + str(answer))"
   ]
  },
  {
   "cell_type": "code",
   "execution_count": 3,
   "metadata": {},
   "outputs": [
    {
     "name": "stdout",
     "output_type": "stream",
     "text": [
      "1\n"
     ]
    }
   ],
   "source": [
    "## (codesignal) pattern matching - convert vowels and consonants 1s and 0s\n",
    "##                                 and match the patterns with given integer\n",
    "##                                 Use dynamic slicing\n",
    "\n",
    "def solution(pattern, source):\n",
    "   \n",
    "    lsource = source.lower()\n",
    "    \n",
    "    match = 0\n",
    "    \n",
    "    vowels = ['a', 'e', 'i', 'o', 'u']\n",
    "    \n",
    "    numericpat = ''\n",
    "\n",
    "    \n",
    "    for l in source:\n",
    "        \n",
    "        if l in vowels:\n",
    "            \n",
    "            numericpat += '1'\n",
    "        \n",
    "        else:\n",
    "            \n",
    "            numericpat += '0'\n",
    "            \n",
    "    index = 0        \n",
    "    while index < len(numericpat):\n",
    "        \n",
    "        ## Use dynamic slicing to slice the larger string by the length of the shorter string\n",
    "        ## Then compare the slice with the shorter pattern string\n",
    "        \n",
    "        if numericpat[index:index + len(pattern)] == pattern:\n",
    "        \n",
    "            ## increment the matches\n",
    "            match += 1\n",
    "        \n",
    "        index += 1\n",
    "\n",
    "    return match\n",
    "\n",
    "## test the output\n",
    "    \n",
    "pat = \"100\"\n",
    "src = \"codesignal\"\n",
    "\n",
    "result = solution(pat, src)\n",
    "\n",
    "print(result)"
   ]
  },
  {
   "cell_type": "code",
   "execution_count": 4,
   "metadata": {},
   "outputs": [
    {
     "name": "stdout",
     "output_type": "stream",
     "text": [
      "The missing number is: 67\n"
     ]
    }
   ],
   "source": [
    "## In array 1-100 numbers are stored, one number is missing. \n",
    "## How do you find it?\n",
    "\n",
    "from array import array\n",
    "\n",
    "def find_missing_number(arr):\n",
    "    \n",
    "    n = len(arr) + 1\n",
    "    \n",
    "    ## calculates the expected sum of the array\n",
    "    total_sum = n * (n + 1) // 2\n",
    "    \n",
    "    ## calculates the actual sum of the array\n",
    "    array_sum = sum(arr)\n",
    "    \n",
    "    ## find the difference\n",
    "    missing_number = total_sum - array_sum\n",
    "    \n",
    "    return missing_number\n",
    "\n",
    "# Test the function with an array\n",
    "numbers_array = array('i', range(1, 101))  # Create the array with numbers 1 to 100\n",
    "numbers_array.remove(67)  # Remove one number from the array (e.g., 67)\n",
    "\n",
    "missing_number = find_missing_number(numbers_array)\n",
    "print(f\"The missing number is: {missing_number}\")\n"
   ]
  },
  {
   "cell_type": "code",
   "execution_count": 5,
   "metadata": {},
   "outputs": [
    {
     "name": "stdout",
     "output_type": "stream",
     "text": [
      "The size of the arrays is different.\n"
     ]
    }
   ],
   "source": [
    "## Compare if two arrays are the same size\n",
    "\n",
    "from array import array\n",
    "\n",
    "array1 = array('i', [1, 2, 3, 4, 5])\n",
    "array2 = array('i', [6, 7, 8])\n",
    "\n",
    "if len(array1) == len(array2):\n",
    "    print(\"Both arrays have the same size.\")\n",
    "else:\n",
    "    print(\"The size of the arrays is different.\")\n"
   ]
  },
  {
   "cell_type": "code",
   "execution_count": 6,
   "metadata": {},
   "outputs": [
    {
     "name": "stdout",
     "output_type": "stream",
     "text": [
      "1\n",
      "2\n",
      "3\n",
      "4\n",
      "5\n"
     ]
    }
   ],
   "source": [
    "## simple for loop iterating through a list\n",
    "\n",
    "# Sample list of numbers\n",
    "numbers = [1, 2, 3, 4, 5]\n",
    "\n",
    "# Using a for loop to iterate through the list\n",
    "for num in numbers:\n",
    "    # Print each element in the list\n",
    "    print(num)"
   ]
  },
  {
   "cell_type": "code",
   "execution_count": 2,
   "metadata": {},
   "outputs": [
    {
     "name": "stdout",
     "output_type": "stream",
     "text": [
      "1 is not present in list2.\n",
      "2 is not present in list2.\n",
      "3 is present in both lists.\n",
      "4 is not present in list2.\n",
      "5 is present in both lists.\n"
     ]
    }
   ],
   "source": [
    "## using nested for loops to check for membership between two lists\n",
    "\n",
    "# Sample lists\n",
    "list1 = [1, 2, 3, 4, 5]\n",
    "list2 = [3, 5, 7, 9]\n",
    "\n",
    "# Using nested for loops to check for membership\n",
    "for num1 in list1:\n",
    "    for num2 in list2:\n",
    "        if num1 == num2:\n",
    "            print(f\"{num1} is present in both lists.\")\n",
    "            break\n",
    "    else:\n",
    "        print(f\"{num1} is not present in list2.\")\n"
   ]
  },
  {
   "cell_type": "code",
   "execution_count": 4,
   "metadata": {},
   "outputs": [
    {
     "name": "stdout",
     "output_type": "stream",
     "text": [
      "Original list: [5, 2, 9, 1, 5, 6]\n",
      "Sorted list: [1, 2, 5, 5, 6, 9]\n",
      "Sorted list (descending): [9, 6, 5, 5, 2, 1]\n"
     ]
    }
   ],
   "source": [
    "## the sorted() function in Python is used to sort a sequence (e.g., list, tuple, string) and \n",
    "## return a new sorted list.\n",
    "\n",
    "# Sample list of numbers\n",
    "numbers = [5, 2, 9, 1, 5, 6]\n",
    "\n",
    "# Using sorted() to sort the list\n",
    "sorted_numbers = sorted(numbers)\n",
    "\n",
    "# Print the original and sorted lists\n",
    "print(\"Original list:\", numbers)\n",
    "print(\"Sorted list:\", sorted_numbers)\n",
    "\n",
    "# Using sorted() to sort the list in descending order\n",
    "sorted_numbers_desc = sorted(numbers, reverse=True)\n",
    "\n",
    "# Print the sorted list in descending order\n",
    "print(\"Sorted list (descending):\", sorted_numbers_desc)"
   ]
  },
  {
   "cell_type": "code",
   "execution_count": 4,
   "metadata": {},
   "outputs": [
    {
     "name": "stdout",
     "output_type": "stream",
     "text": [
      "37 is a prime number.\n"
     ]
    }
   ],
   "source": [
    "## Check if a number is prime or not\n",
    "\n",
    "def is_prime(number):\n",
    "    \n",
    "    if number <= 1:\n",
    "        return False\n",
    "    \n",
    "    elif number == 2:\n",
    "        return True\n",
    "    \n",
    "    elif number % 2 == 0:\n",
    "        return False\n",
    "\n",
    "    # Check for divisors starting from 3 up to the square root of the number\n",
    "    # Only odd divisors need to be checked (hence step=2 in range)\n",
    "    \n",
    "    for divisor in range(3, int(number ** 0.5) + 1, 2):\n",
    "        \n",
    "        if number % divisor == 0:\n",
    "            \n",
    "            return False\n",
    "\n",
    "    return True\n",
    "\n",
    "# Test the function\n",
    "input_number = 37\n",
    "\n",
    "if is_prime(input_number):\n",
    "    \n",
    "    print(f\"{input_number} is a prime number.\")\n",
    "    \n",
    "else:\n",
    "    print(f\"{input_number} is not a prime number.\")\n"
   ]
  },
  {
   "cell_type": "code",
   "execution_count": 9,
   "metadata": {},
   "outputs": [
    {
     "name": "stdout",
     "output_type": "stream",
     "text": [
      "Prime factors of 1037: [17, 61]\n"
     ]
    }
   ],
   "source": [
    "## Find the prime factors of a given integer\n",
    "\n",
    "def find_prime_factors(number):\n",
    "    \n",
    "    prime_factors = []\n",
    "    divisor = 2\n",
    "\n",
    "    while divisor <= number:\n",
    "        \n",
    "        if number % divisor == 0:\n",
    "            prime_factors.append(divisor)\n",
    "            number //= divisor\n",
    "        else:\n",
    "            \n",
    "            divisor += 1\n",
    "\n",
    "    return prime_factors\n",
    "\n",
    "# Test the function\n",
    "input_number = 1037\n",
    "\n",
    "prime_factors_list = find_prime_factors(input_number)\n",
    "\n",
    "print(f\"Prime factors of {input_number}: {prime_factors_list}\")\n"
   ]
  },
  {
   "cell_type": "code",
   "execution_count": 12,
   "metadata": {},
   "outputs": [
    {
     "name": "stdout",
     "output_type": "stream",
     "text": [
      "Enter a number: 21\n",
      "The number 21 is Odd.\n"
     ]
    }
   ],
   "source": [
    "## Check if a number is even or odd\n",
    "\n",
    "def check_even_odd(number):\n",
    "    \n",
    "    if number % 2 == 0:\n",
    "        return \"Even\"\n",
    "    else:\n",
    "        return \"Odd\"\n",
    "\n",
    "# Test the function\n",
    "input_number = int(input(\"Enter a number: \"))\n",
    "\n",
    "result = check_even_odd(input_number)\n",
    "\n",
    "print(f\"The number {input_number} is {result}.\")"
   ]
  },
  {
   "cell_type": "code",
   "execution_count": null,
   "metadata": {},
   "outputs": [],
   "source": [
    "## Convert a decimal number to a binary\n",
    "\n",
    "def decimal_to_binary(decimal_num):\n",
    "    \n",
    "    binary_num = \"\"\n",
    "    \n",
    "    if decimal_num == 0:\n",
    "        return \"0\"\n",
    "    \n",
    "    while decimal_num > 0:\n",
    "        binary_num = str(decimal_num % 2) + binary_num\n",
    "        decimal_num //= 2\n",
    "    \n",
    "    return binary_num\n",
    "\n",
    "# Test the function\n",
    "input_decimal = int(input(\"Enter a decimal number: \"))\n",
    "binary_result = decimal_to_binary(input_decimal)\n",
    "print(f\"The binary representation of {input_decimal} is: {binary_result}\")"
   ]
  },
  {
   "cell_type": "code",
   "execution_count": 13,
   "metadata": {},
   "outputs": [
    {
     "name": "stdout",
     "output_type": "stream",
     "text": [
      "Enter a year: 2004\n",
      "2004 is a leap year.\n"
     ]
    }
   ],
   "source": [
    "## check if the given year is leap year\n",
    "\n",
    "def is_leap_year(year):\n",
    "    \n",
    "    if year % 4 == 0:\n",
    "        if year % 100 == 0:\n",
    "            if year % 400 == 0:\n",
    "                return True\n",
    "            else:\n",
    "                return False\n",
    "        else:\n",
    "            return True\n",
    "    else:\n",
    "        return False\n",
    "\n",
    "# Test the function\n",
    "input_year = int(input(\"Enter a year: \"))\n",
    "if is_leap_year(input_year):\n",
    "    print(f\"{input_year} is a leap year.\")\n",
    "else:\n",
    "    print(f\"{input_year} is not a leap year.\")\n"
   ]
  },
  {
   "cell_type": "code",
   "execution_count": null,
   "metadata": {},
   "outputs": [],
   "source": [
    "## remove a given character from a string\n",
    "\n",
    "def remove_character(input_string, char_to_remove):\n",
    "    \n",
    "    result_string = \"\"\n",
    "    \n",
    "    for char in input_string:\n",
    "        \n",
    "        if char != char_to_remove:\n",
    "            \n",
    "            result_string += char\n",
    "            \n",
    "    return result_string\n",
    "\n",
    "# Test the function\n",
    "input_string = input(\"Enter a string: \")\n",
    "char_to_remove = input(\"Enter the character to remove: \")\n",
    "\n",
    "new_string = remove_character(input_string, char_to_remove)\n",
    "print(f\"The new string after removing '{char_to_remove}' is: {new_string}\")\n"
   ]
  },
  {
   "cell_type": "code",
   "execution_count": 7,
   "metadata": {},
   "outputs": [
    {
     "name": "stdout",
     "output_type": "stream",
     "text": [
      "[10, 20, 40, 50]\n"
     ]
    }
   ],
   "source": [
    "## remove a given element from a list\n",
    "\n",
    "my_list = [10, 20, 30, 40, 50]\n",
    "\n",
    "# Remove element 30 from the list\n",
    "my_list.remove(30)\n",
    "\n",
    "print(my_list)  "
   ]
  },
  {
   "cell_type": "code",
   "execution_count": 3,
   "metadata": {},
   "outputs": [
    {
     "name": "stdout",
     "output_type": "stream",
     "text": [
      "Largest number: 20\n",
      "Smallest number: 3\n"
     ]
    }
   ],
   "source": [
    "## Find the largest and smallest integer values in a list\n",
    "\n",
    "def find_largest_smallest(arr):\n",
    "    \n",
    "    if not arr:\n",
    "        return None, None\n",
    "\n",
    "    ## set largest and smallest to the first list element\n",
    "    largest = arr[0]\n",
    "    smallest = arr[0]\n",
    "\n",
    "    ## iterate through each element and compare values\n",
    "    for num in arr:\n",
    "        \n",
    "        if num > largest:\n",
    "            largest = num\n",
    "            \n",
    "        if num < smallest:\n",
    "            smallest = num\n",
    "\n",
    "    return largest, smallest\n",
    "\n",
    "# Test the function\n",
    "numbers_array = [10, 5, 8, 20, 3, 15, 7]\n",
    "largest_number, smallest_number = find_largest_smallest(numbers_array)\n",
    "\n",
    "print(f\"Largest number: {largest_number}\")\n",
    "print(f\"Smallest number: {smallest_number}\")\n"
   ]
  },
  {
   "cell_type": "code",
   "execution_count": 1,
   "metadata": {},
   "outputs": [
    {
     "name": "stdout",
     "output_type": "stream",
     "text": [
      "9\n"
     ]
    }
   ],
   "source": [
    "## Find a non - negative integer that is not in the array\n",
    "\n",
    "from array import array\n",
    "\n",
    "def find_missing_integer(arr):\n",
    "    \n",
    "    incr = 0\n",
    "    \n",
    "    for num in arr:\n",
    "        if num == incr:\n",
    "            incr += 1\n",
    "        elif num > incr:\n",
    "            break\n",
    "            \n",
    "    return incr\n",
    "        \n",
    "a = array('i', [-2, -1, 0, 1, 2, 3, 4, 5, 6, 7, 8])\n",
    "\n",
    "result = find_missing_integer(a)\n",
    "\n",
    "print(result)"
   ]
  },
  {
   "cell_type": "code",
   "execution_count": null,
   "metadata": {},
   "outputs": [],
   "source": [
    "## Check if a string is a palindrome or not.  Example:  radar, civic, madam\n",
    "\n",
    "def is_palindrome(mystring):\n",
    "    \n",
    "    ## convert to lower case\n",
    "    lowstring = mystring.lower()\n",
    "    \n",
    "    ## using slicing to reverse the string\n",
    "    revstring = lowstring[::-1]\n",
    "    \n",
    "    ## compare the strings\n",
    "    if revstring == lowstring:\n",
    "        \n",
    "        return True\n",
    "    \n",
    "    return False\n",
    "\n",
    "# Example usage:\n",
    "word = \"radar\"\n",
    "result = is_palindrome(word)\n",
    "print(result)  # Output: True\n",
    "\n",
    "word = \"hello\"\n",
    "result = is_palindrome(word)\n",
    "print(result)  # Output: False"
   ]
  },
  {
   "cell_type": "code",
   "execution_count": 2,
   "metadata": {},
   "outputs": [
    {
     "name": "stdout",
     "output_type": "stream",
     "text": [
      "120\n",
      "5040\n"
     ]
    }
   ],
   "source": [
    "## The factorial of a non-negative integer n, denoted by n!, \n",
    "## is the product of all positive integers from 1 to n. \n",
    "## In other words, it is the result of multiplying the number \n",
    "## with all positive integers that come before it.\n",
    "\n",
    "## Recursion is when a function calls itself\n",
    "\n",
    "## Use recursion to return the factorial of a given number\n",
    "\n",
    "def factorial(n):\n",
    "    if n == 0 or n == 1:\n",
    "        return 1\n",
    "    else:\n",
    "        return n * factorial(n - 1)\n",
    "    \n",
    "# Example usage:\n",
    "print(factorial(5))  \n",
    "print(factorial(7))  "
   ]
  },
  {
   "cell_type": "code",
   "execution_count": 4,
   "metadata": {},
   "outputs": [
    {
     "name": "stdout",
     "output_type": "stream",
     "text": [
      "The number of elements in the list is: 5\n"
     ]
    }
   ],
   "source": [
    "## Count the elements in a list\n",
    "\n",
    "my_list = [10, 20, 30, 40, 50]\n",
    "\n",
    "list_length = len(my_list)\n",
    "\n",
    "print(f\"The number of elements in the list is: {list_length}\")"
   ]
  },
  {
   "cell_type": "code",
   "execution_count": 5,
   "metadata": {},
   "outputs": [
    {
     "name": "stdout",
     "output_type": "stream",
     "text": [
      "7\n"
     ]
    }
   ],
   "source": [
    "## Use recursion to count the elements in a list\n",
    "\n",
    "def count_elements(lst):\n",
    "    \n",
    "    # Base case: if the list is empty, return 0\n",
    "    if not lst:  \n",
    "        return 0\n",
    "    \n",
    "    else:\n",
    "        ## create a new list containing all the elements of the original list \"lst\"\n",
    "        ## starting from index 1 until the end of the list\n",
    "        ## The new list will omit the first element of the original list\n",
    "        \n",
    "        return 1 + count_elements(lst[1:])  \n",
    "\n",
    "# Example usage:\n",
    "my_list = [0, 1, 2, 3, 4, 5, 6]\n",
    "result = count_elements(my_list)\n",
    "print(result)  "
   ]
  },
  {
   "cell_type": "code",
   "execution_count": 6,
   "metadata": {},
   "outputs": [
    {
     "name": "stdout",
     "output_type": "stream",
     "text": [
      "olleH\n"
     ]
    }
   ],
   "source": [
    "## review the order of a string using slicing\n",
    "\n",
    "mystring = \"Hello\"\n",
    "\n",
    "revstring = mystring[::-1]\n",
    "\n",
    "print(revstring)"
   ]
  },
  {
   "cell_type": "code",
   "execution_count": 7,
   "metadata": {},
   "outputs": [
    {
     "name": "stdout",
     "output_type": "stream",
     "text": [
      "Hello\n",
      "World!\n",
      "!dlroW ,olleH\n",
      "el,Wrd\n",
      "l,o\n",
      "orl\n"
     ]
    }
   ],
   "source": [
    "## Python string slicing  string[start:stop:step]\n",
    "\n",
    "## start: The index of the first character you want to include in the slice. \n",
    "##        It is inclusive, meaning the character at this index is included in the slice.\n",
    "## stop: The index of the first character you want to exclude from the slice. \n",
    "##        It is exclusive, meaning the character at this index is not included in the slice.\n",
    "## step (optional): The interval between characters to include in the slice. \n",
    "##       It defaults to 1 if not specified, meaning every character is included. \n",
    "##       A negative step allows you to reverse the string.\n",
    "\n",
    "# Example string\n",
    "my_string = \"Hello, World!\"\n",
    "\n",
    "# Extract characters from index 0 to 5 (exclusive)\n",
    "sliced_string = my_string[0:5]\n",
    "print(sliced_string)  # Output: \"Hello\"\n",
    "\n",
    "# Extract characters from index 7 to the end\n",
    "sliced_string = my_string[7:]\n",
    "print(sliced_string)  # Output: \"World!\"\n",
    "\n",
    "# Reverse the string\n",
    "reversed_string = my_string[::-1]\n",
    "print(reversed_string)  # Output: \"!dlroW ,olleH\"\n",
    "\n",
    "# Extract every other character starting from index 1\n",
    "sliced_string = my_string[1::2]\n",
    "print(sliced_string)  # Output: \"el,Wrd\"\n",
    "\n",
    "# Extract characters from index 2 to 9 with a step of 3\n",
    "sliced_string = my_string[2:10:3]\n",
    "print(sliced_string)  # Output: \"l r\"\n",
    "\n",
    "# Slicing also works with negative indices\n",
    "# Extract characters from index -5 to -2 (exclusive)\n",
    "sliced_string = my_string[-5:-2]\n",
    "print(sliced_string)  # Output: \"orl\""
   ]
  },
  {
   "cell_type": "code",
   "execution_count": 8,
   "metadata": {},
   "outputs": [
    {
     "name": "stdout",
     "output_type": "stream",
     "text": [
      "120\n",
      "> \u001b[1;32m<ipython-input-8-4a4811bf2d26>\u001b[0m(14)\u001b[0;36mfactorial\u001b[1;34m()\u001b[0m\n",
      "\u001b[1;32m     12 \u001b[1;33m    \u001b[1;32mif\u001b[0m \u001b[0mn\u001b[0m \u001b[1;33m<\u001b[0m \u001b[1;36m0\u001b[0m\u001b[1;33m:\u001b[0m\u001b[1;33m\u001b[0m\u001b[1;33m\u001b[0m\u001b[0m\n",
      "\u001b[0m\u001b[1;32m     13 \u001b[1;33m        \u001b[0mbreakpoint\u001b[0m\u001b[1;33m(\u001b[0m\u001b[1;33m)\u001b[0m  \u001b[1;31m# Set a breakpoint here for debugging\u001b[0m\u001b[1;33m\u001b[0m\u001b[1;33m\u001b[0m\u001b[0m\n",
      "\u001b[0m\u001b[1;32m---> 14 \u001b[1;33m    \u001b[0mresult\u001b[0m \u001b[1;33m=\u001b[0m \u001b[1;36m1\u001b[0m\u001b[1;33m\u001b[0m\u001b[1;33m\u001b[0m\u001b[0m\n",
      "\u001b[0m\u001b[1;32m     15 \u001b[1;33m    \u001b[1;32mfor\u001b[0m \u001b[0mi\u001b[0m \u001b[1;32min\u001b[0m \u001b[0mrange\u001b[0m\u001b[1;33m(\u001b[0m\u001b[1;36m1\u001b[0m\u001b[1;33m,\u001b[0m \u001b[0mn\u001b[0m \u001b[1;33m+\u001b[0m \u001b[1;36m1\u001b[0m\u001b[1;33m)\u001b[0m\u001b[1;33m:\u001b[0m\u001b[1;33m\u001b[0m\u001b[1;33m\u001b[0m\u001b[0m\n",
      "\u001b[0m\u001b[1;32m     16 \u001b[1;33m        \u001b[0mresult\u001b[0m \u001b[1;33m*=\u001b[0m \u001b[0mi\u001b[0m\u001b[1;33m\u001b[0m\u001b[1;33m\u001b[0m\u001b[0m\n",
      "\u001b[0m\n",
      "ipdb> c\n",
      "1\n"
     ]
    }
   ],
   "source": [
    "## The breakpoint() function is a useful tool for debugging problematic Python code. \n",
    "## It allows you to set a breakpoint in your code and pause the program's execution at that point\n",
    "\n",
    "## When you run the modified code and reach the breakpoint() statement, \n",
    "## the program execution will pause, and you'll enter the Python debugger (PDB) environment. \n",
    "## In the PDB environment, you can inspect the variable values, step through the code, \n",
    "## and identify the issue.\n",
    "\n",
    "## There are more than 20 PDB commands for debugging python code\n",
    "\n",
    "def factorial(n):\n",
    "    if n < 0:\n",
    "        breakpoint()  # Set a breakpoint here for debugging\n",
    "    result = 1\n",
    "    for i in range(1, n + 1):\n",
    "        result *= i\n",
    "    return result\n",
    "\n",
    "# Calculate the factorial of 5\n",
    "print(factorial(5))  # Output: 120\n",
    "\n",
    "# Calculate the factorial of -2 (which should be an error)\n",
    "print(factorial(-2))\n"
   ]
  },
  {
   "cell_type": "code",
   "execution_count": 9,
   "metadata": {},
   "outputs": [
    {
     "name": "stdout",
     "output_type": "stream",
     "text": [
      "Hello, Alice. You are 30 years old.\n"
     ]
    }
   ],
   "source": [
    "## f-strings (formatted string literals) provide a concise way to format strings. \n",
    "\n",
    "name = \"Alice\"\n",
    "age = 30\n",
    "\n",
    "# Basic f-string usage\n",
    "greeting = f\"Hello, {name}. You are {age} years old.\"\n",
    "print(greeting)  "
   ]
  },
  {
   "cell_type": "code",
   "execution_count": 10,
   "metadata": {},
   "outputs": [
    {
     "name": "stdout",
     "output_type": "stream",
     "text": [
      "2023-07-27 10:09:57.687762\n",
      "Current date: 2023-07-27\n"
     ]
    }
   ],
   "source": [
    "## Use f-strings to format dates\n",
    "\n",
    "from datetime import datetime\n",
    "\n",
    "current_date = datetime.now()\n",
    "print(current_date)\n",
    "\n",
    "# Format dates using f-strings\n",
    "formatted_date = f\"Current date: {current_date:%Y-%m-%d}\"\n",
    "print(formatted_date)  "
   ]
  }
 ],
 "metadata": {
  "kernelspec": {
   "display_name": "Python 3",
   "language": "python",
   "name": "python3"
  },
  "language_info": {
   "codemirror_mode": {
    "name": "ipython",
    "version": 3
   },
   "file_extension": ".py",
   "mimetype": "text/x-python",
   "name": "python",
   "nbconvert_exporter": "python",
   "pygments_lexer": "ipython3",
   "version": "3.8.5"
  }
 },
 "nbformat": 4,
 "nbformat_minor": 4
}
